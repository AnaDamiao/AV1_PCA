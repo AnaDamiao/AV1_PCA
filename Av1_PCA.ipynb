{
  "nbformat": 4,
  "nbformat_minor": 0,
  "metadata": {
    "colab": {
      "provenance": [],
      "authorship_tag": "ABX9TyNFa+KoOAfIYdmsuwjs+v8x",
      "include_colab_link": true
    },
    "kernelspec": {
      "name": "python3",
      "display_name": "Python 3"
    },
    "language_info": {
      "name": "python"
    }
  },
  "cells": [
    {
      "cell_type": "markdown",
      "metadata": {
        "id": "view-in-github",
        "colab_type": "text"
      },
      "source": [
        "<a href=\"https://colab.research.google.com/github/AnaDamiao/AV1_PCA/blob/main/Av1_PCA.ipynb\" target=\"_parent\"><img src=\"https://colab.research.google.com/assets/colab-badge.svg\" alt=\"Open In Colab\"/></a>"
      ]
    },
    {
      "cell_type": "markdown",
      "source": [
        "#Questão 1\n",
        "Exiba todos os n ́umeros pares de 10 a 200."
      ],
      "metadata": {
        "id": "mEyG9WRQ23WV"
      }
    },
    {
      "cell_type": "code",
      "source": [
        "for numero in range(10, 201, 2):\n",
        "    print(numero)"
      ],
      "metadata": {
        "id": "vKzCnApl3I7S"
      },
      "execution_count": null,
      "outputs": []
    },
    {
      "cell_type": "markdown",
      "source": [
        "#Questão 2\n",
        "Pesquise sobre a utilização do método randint() e determine o maior valor de 100 números sorteados de 1 a 1000."
      ],
      "metadata": {
        "id": "8ngRX7cB3OXc"
      }
    },
    {
      "cell_type": "code",
      "source": [
        "import random\n",
        "\n",
        "numerosSorteados = []\n",
        "\n",
        "for i in range(100):\n",
        "  numeroSorteado = random.randint(1, 1000)\n",
        "  numerosSorteados.append(numeroSorteado)\n",
        "\n",
        "maiorNumero = max(numerosSorteados)\n",
        "\n",
        "print(\"O Maior numero sorteado entre os 100 números foi\", maiorNumero)\n"
      ],
      "metadata": {
        "colab": {
          "base_uri": "https://localhost:8080/"
        },
        "id": "6dYvqNUF3fVb",
        "outputId": "214f4fd7-507e-4a1b-9c6a-7542436c49f9"
      },
      "execution_count": null,
      "outputs": []
    },
    {
      "cell_type": "markdown",
      "source": [
        "#Questão 3\n",
        "Pesquise sobre a utilização do método randint() e exiba 50 números sorteados de 1 a 100 para o usuário."
      ],
      "metadata": {
        "id": "5B6Ewk3T3hH-"
      }
    },
    {
      "cell_type": "code",
      "source": [
        "import random\n",
        "\n",
        "numerosSorteados = []\n",
        "contagem = 0\n",
        "\n",
        "for i in range(50):\n",
        "  numeroSorteado = random.randint(1, 100)\n",
        "  numerosSorteados = numeroSorteado\n",
        "  contagem += 1\n",
        "  print(\"Numero\",contagem,\"-\",numerosSorteados)\n"
      ],
      "metadata": {
        "id": "FE_di95m3rKZ"
      },
      "execution_count": null,
      "outputs": []
    },
    {
      "cell_type": "markdown",
      "source": [
        "#Questão 4\n",
        "\n",
        "Solicite ao usuário a idade de cada componente de um grupo de pessoas. A quantidade de pessoas também será determinada por ele. Após o término da entrada, apresente:\n",
        "\n",
        "• A média das idades;\n",
        "\n",
        "• A maior idade;\n",
        "\n",
        "• A menor idade;\n",
        "\n",
        "• A quantidade de pessoas maior de idade."
      ],
      "metadata": {
        "id": "51rscn333s4W"
      }
    },
    {
      "cell_type": "code",
      "source": [
        "quantidadePessoas = int(input(\"Informe a quantidade de pessoas que tem em seu grupo: \"))\n",
        "\n",
        "idades = []\n",
        "\n",
        "for i in range(quantidadePessoas):\n",
        "    idade = int(input(f\"Digite a idade da {i + 1}ª pessoa: \"))\n",
        "    idades.append(idade)\n",
        "\n",
        "somaIdades = sum(idades)\n",
        "mediaIdades = somaIdades / quantidadePessoas\n",
        "\n",
        "maiorIdade = max(idades)\n",
        "\n",
        "menorIdade = min(idades)\n",
        "\n",
        "print(\"A média de idade do seu grupo é: \", mediaIdades)\n",
        "print(\"A pessoa com maior idade do seu grupo é:\", maiorIdade)\n",
        "print(\"A pessoa com menor idade do seu grupo é:\", menorIdade)\n",
        "print(\"Idades acima dos 18 anos:\")\n",
        "for idade in idades:\n",
        "    if idade >= 18:\n",
        "        print(idade)"
      ],
      "metadata": {
        "id": "sdZtgZ_L3--_"
      },
      "execution_count": null,
      "outputs": []
    },
    {
      "cell_type": "markdown",
      "source": [
        "#Questão 5\n",
        "\n",
        "Pesquise sobre a utilização do método randint() e crie um jogo para o usuário descobrir um número sorteado de 1 a 100. O usuário possui 10 tentativas. A cada tentativa dele, forneça uma dica falando se o número é maior ou menor. Quando ele descobrir exiba uma mensagem de parabéns e mostre em quantas tentativas ele\n",
        "conseguiu. Caso contrário, exiba uma mensagem de tente novamente."
      ],
      "metadata": {
        "id": "IeTnzzDh4Cdu"
      }
    },
    {
      "cell_type": "code",
      "source": [
        "import random\n",
        "\n",
        "numeroSorteado = random.randint(1, 100)\n",
        "numeroTentativas = 0\n",
        "\n",
        "for tentativas in range(10):\n",
        "  tentativa = int(input(f\"Dê seu {tentativas + 1}ª palpite: \"))\n",
        "  numeroTentativas =+ 1\n",
        "\n",
        "  if tentativa > numeroSorteado:\n",
        "    print(\"Palpite errado. DICA: Você digitou um numero maior que o sorteado. Tente novamente!\")\n",
        "  elif tentativa < numeroSorteado:\n",
        "    print(\"Palpite errado. DICA: Você digitou um numero menor que o sorteado. Tente novamente!\")\n",
        "  else:\n",
        "    print(\"Parabens, você acertou o numero sorteado!! O numero é: \", numeroSorteado)\n",
        "    break;\n",
        "\n"
      ],
      "metadata": {
        "id": "RUeJFv7I4XS3"
      },
      "execution_count": null,
      "outputs": []
    },
    {
      "cell_type": "markdown",
      "source": [
        "#Questão 6\n",
        "Prepare um algoritmo para controlar entrevistas com 2500 casais e seu algoritmo deverá ler os seguintes dados:\n",
        "\n",
        "• Idade namorado;\n",
        "\n",
        "• Idade namorada;\n",
        "\n",
        "• Tempo de namoro de cada casal (em anos).\n",
        "\n",
        "Sou algoritmo deverá informar:\n",
        "\n",
        "• A média de idade entre os homens;\n",
        "\n",
        "• A média de idade entre as mulheres;\n",
        "\n",
        "• A quantidade de casais com menos de 2 anos de namoro."
      ],
      "metadata": {
        "id": "8OGRQ2HW4YGv"
      }
    },
    {
      "cell_type": "code",
      "source": [
        "somaHomens = 0\n",
        "somaMulheres = 0\n",
        "contadorCasaisDoisAnos = 0\n",
        "\n",
        "for casal in range(1, 2501):\n",
        "  idadeHomem = random.randint(18, 50)\n",
        "  idadeMulher = random.randint(18, 50)\n",
        "  tempoNamoro = random.randint(1, 10)\n",
        "\n",
        "  somaHomens += idadeHomem\n",
        "  somaMulheres += idadeMulher\n",
        "\n",
        "  if tempoNamoro < 2:\n",
        "    contadorCasaisDoisAnos += 1\n",
        "\n",
        "mediaIdadeHomens = somaHomens / 2500\n",
        "mediaIdadeMulheres = somaMulheres / 2500\n",
        "\n",
        "print(\"Média de idade entre homens:\", mediaIdadeHomens)\n",
        "print(\"Média de idade entre mulheres:\", mediaIdadeMulheres)\n",
        "print(\"Quantidade de casais com menos de 2 anos de namoro:\", contadorCasaisDoisAnos)"
      ],
      "metadata": {
        "id": "ORx9Q4gg4sJ5"
      },
      "execution_count": null,
      "outputs": []
    },
    {
      "cell_type": "markdown",
      "source": [
        "#Questão 7\n",
        "Prepare um algoritmo para controlar a venda de ingressos para a copa do mundo. Serão 64 jogos e para cada um deles você deve ler:\n",
        "\n",
        "• Total de ingressos disponíveis;\n",
        "\n",
        "• Total de ingressos vendidos.\n",
        "\n",
        "Sou algoritmo deverá informar:\n",
        "\n",
        "• O total de ingressos disponíveis na copa;\n",
        "\n",
        "• O total de ingressos vendidos na copa;\n",
        "\n",
        "• O total de ingressos não vendidos na copa;\n",
        "\n",
        "• O total de jogos com mais de 90% dos ingressos vendidos."
      ],
      "metadata": {
        "id": "RWmFy0XQ4sgv"
      }
    },
    {
      "cell_type": "code",
      "source": [
        "totalDisponiveisGeral = 0\n",
        "totalVendidosGeral = 0\n",
        "total90Vendidos = 0\n",
        "\n",
        "for jogo in range(1, 65):\n",
        "  totalDisponiveis = random.randint(1, 65)\n",
        "  totalVendidos = random.randint(1, 65)\n",
        "\n",
        "  totalDisponiveisGeral += totalDisponiveis\n",
        "  totalVendidosGeral += totalVendidos\n",
        "\n",
        "  if totalVendidosGeral / totalDisponiveis > 0.9:\n",
        "    total90Vendidos += 1\n",
        "\n",
        "totalIngressosNaoVendidos = totalDisponiveisGeral - totalVendidosGeral\n",
        "\n",
        "print(\"Total de ingressos disponíveis na copa:\", totalDisponiveisGeral)\n",
        "print(\"Total de ingressos vendidos na copa:\", totalVendidosGeral)\n",
        "print(\"Total de ingressos não vendidos na copa:\", totalIngressosNaoVendidos)\n",
        "print(\"Total de jogos com mais de 90% dos ingressos vendidos:\", total90Vendidos)\n"
      ],
      "metadata": {
        "id": "aPzC3VtT4-c3"
      },
      "execution_count": null,
      "outputs": []
    },
    {
      "cell_type": "markdown",
      "source": [
        "#Questão 8\n",
        "Prepare um algoritmo para controlar as vendas em uma loja de informática. Os dados de 1000 vendas foram registrados e devem ser lidos pelo seu algoritmo.\n",
        "\n",
        "• Tipo do produto (1, 2 ou 3);\n",
        "\n",
        "• Valor da venda.\n",
        "\n",
        "Sou algoritmo deverá informar:\n",
        "\n",
        "• Quantas vendas foram realizadas de cada tipo de produto;\n",
        "\n",
        "• Quanto foi vendido de cada tipo de produto;\n",
        "\n",
        "• O valor total vendido na loja;\n",
        "\n",
        "• O valor da maior venda."
      ],
      "metadata": {
        "id": "p3miBJ6-4-yj"
      }
    },
    {
      "cell_type": "code",
      "source": [
        "import random\n",
        "\n",
        "vendaTipo1 = 0\n",
        "vendaTipo2 = 0\n",
        "vendaTipo3 = 0\n",
        "valorTotalVendido = 0\n",
        "maiorVenda = 0\n",
        "\n",
        "for venda in range(1, 1001):\n",
        "    tipoProduto = random.randint(1, 3)\n",
        "    valorVenda = random.randint(1, 1000)\n",
        "    if tipoProduto == 1:\n",
        "        vendaTipo1 += 1\n",
        "    elif tipoProduto == 2:\n",
        "        vendaTipo2 += 1\n",
        "    elif tipoProduto == 3:\n",
        "        vendaTipo3 += 1\n",
        "    else:\n",
        "        print(\"tipo de produto inválido\")\n",
        "\n",
        "\n",
        "    valorTotalVendido += valorVenda\n",
        "\n",
        "    if valorVenda > maiorVenda:\n",
        "      maiorVenda = valorVenda\n",
        "\n",
        "print(f\"Quantidade de vendas do tipo 1: {vendaTipo1}\")\n",
        "print(f\"Quantidade de vendas do tipo 2: {vendaTipo2}\")\n",
        "print(f\"Quantidade de vendas do tipo 3: {vendaTipo3}\")\n",
        "print(f\"Valor total vendido na loja: R${valorTotalVendido:.2f}\")\n",
        "print(f\"Valor da maior venda: R${maiorVenda:.2f}\")"
      ],
      "metadata": {
        "id": "3Sh_Qp2R5LId"
      },
      "execution_count": null,
      "outputs": []
    },
    {
      "cell_type": "markdown",
      "source": [
        "#Questão 9\n",
        "Prepare um algoritmo para controlar informações sobre fortunas. Serão entrevistadas 2000 famílias e seu algoritmo deverá ler os seguintes dados:\n",
        "\n",
        "• Valor da fortuna;\n",
        "\n",
        "• Origem da fortuna (trabalho, herança ou sorte).\n",
        "\n",
        "Seu algoritmo deverá informar:\n",
        "\n",
        "• A quantidade de fortunas e o valor destas fortunas conseguidas com trabalho;\n",
        "\n",
        "• A quantidade de fortunas e o valor destas fortunas conseguidas com herança;\n",
        "\n",
        "• A quantidade de fortunas e o valor destas fortunas conseguidas com sorte;\n",
        "\n",
        "• O valor total da soma das 2000 fortunas;\n",
        "\n",
        "• O valor da maior fortuna."
      ],
      "metadata": {
        "id": "sS7h8bqd5LX5"
      }
    },
    {
      "cell_type": "code",
      "source": [
        "numFamilias = 2000;\n",
        "fortunasTrabalho = 0;\n",
        "fortunasHeranca = 0;\n",
        "fortunasSorte = 0;\n",
        "somaFortunas = 0;\n",
        "maiorFortuna = 0;\n",
        "\n",
        "for i in range(numFamilias):\n",
        "    valorFortuna = float(input(f\"Digite o valor da fortuna da família {i + 1}: \"));\n",
        "    origemFortuna = input(f\"Digite a origem da fortuna (trabalho, herança ou sorte) da família {i + 1}: \").lower();\n",
        "\n",
        "    somaFortunas += valorFortuna;\n",
        "    if valorFortuna > maiorFortuna:\n",
        "        maiorFortuna = valorFortuna;\n",
        "\n",
        "    if origemFortuna == \"trabalho\":\n",
        "        fortunasTrabalho += 1;\n",
        "    elif origemFortuna == \"herança\":\n",
        "        fortunasHeranca += 1;\n",
        "    elif origemFortuna == \"sorte\":\n",
        "        fortunasSorte += 1;\n",
        "    else:\n",
        "        print(\"Origem da fortuna não reconhecida. Use 'trabalho', 'herança' ou 'sorte'.\");\n",
        "\n",
        "print(f\"Quantidade de fortunas conseguidas com trabalho: {fortunasTrabalho}\");\n",
        "print(f\"Valor total das fortunas conseguidas com trabalho: {fortunasTrabalho * valorFortuna}\");\n",
        "print(f\"Quantidade de fortunas conseguidas com herança: {fortunasHeranca}\");\n",
        "print(f\"Valor total das fortunas conseguidas com herança: {fortunasHeranca * valorFortuna}\");\n",
        "print(f\"Quantidade de fortunas conseguidas com sorte: {fortunasSorte}\");\n",
        "print(f\"Valor total das fortunas conseguidas com sorte: {fortunasSorte * valorFortuna}\");\n",
        "print(f\"Valor total das 2000 fortunas: {somaFortunas}\");\n",
        "print(f\"Valor da maior fortuna: {maiorFortuna}\");\n"
      ],
      "metadata": {
        "id": "OFCf3kFLG4o6"
      },
      "execution_count": null,
      "outputs": []
    }
  ]
}
